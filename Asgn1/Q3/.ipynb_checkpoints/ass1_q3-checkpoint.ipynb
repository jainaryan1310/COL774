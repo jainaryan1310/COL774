{
 "cells": [
  {
   "cell_type": "code",
   "execution_count": 1,
   "id": "3fd19026-e693-435d-922f-a202dea9f828",
   "metadata": {},
   "outputs": [],
   "source": [
    "import numpy as np\n",
    "import pandas as pd\n",
    "import matplotlib.pyplot as plt\n",
    "import sys\n",
    "import time"
   ]
  },
  {
   "cell_type": "code",
   "execution_count": 2,
   "id": "f22d7622-ee29-4cca-b9e6-7a01bc4fcdb9",
   "metadata": {},
   "outputs": [],
   "source": [
    "# loading data\n",
    "X = pd.read_csv(\"q3/logisticX.csv\", header = None)\n",
    "Y = pd.read_csv(\"q3/logisticY.csv\", header = None)\n",
    "X.columns = [\"x1\", \"x2\"]\n",
    "Y.columns = [\"y\"]\n",
    "X[\"x0\"] = 1"
   ]
  },
  {
   "cell_type": "code",
   "execution_count": 3,
   "id": "9aa77be1-46fa-444c-9c34-b060b1e25945",
   "metadata": {},
   "outputs": [],
   "source": [
    "# normalising x values\n",
    "x1_mean = np.mean(X[\"x1\"])\n",
    "x1_std = np.std(X[\"x1\"])\n",
    "x2_mean = np.mean(X[\"x2\"])\n",
    "x2_std = np.std(X[\"x2\"])\n",
    "X[\"x1\"] = (X[\"x1\"] - x1_mean)/x1_std\n",
    "X[\"x2\"] = (X[\"x2\"] - x2_mean)/x2_std"
   ]
  },
  {
   "cell_type": "code",
   "execution_count": 4,
   "id": "7e9e6ffa-4cc7-4aff-a3c9-8a7865adf04f",
   "metadata": {},
   "outputs": [],
   "source": [
    "# reshaping the data into arrays\n",
    "X_data = X[[\"x0\", \"x1\", \"x2\"]].to_numpy()\n",
    "Y_data = Y.to_numpy()"
   ]
  },
  {
   "cell_type": "code",
   "execution_count": 5,
   "id": "e86e747f-52eb-403d-9f40-3fe86316020f",
   "metadata": {},
   "outputs": [],
   "source": [
    "# initialising parameters\n",
    "theta = np.zeros((3, 1))"
   ]
  },
  {
   "cell_type": "code",
   "execution_count": 6,
   "id": "beffdba2-5476-4399-ae17-1a676fa5e429",
   "metadata": {},
   "outputs": [],
   "source": [
    "# calculating h(ϑ)\n",
    "v = np.dot(X_data, theta)\n",
    "hx = (1/(1+np.exp(-v)))"
   ]
  },
  {
   "cell_type": "code",
   "execution_count": 7,
   "id": "71ead72a-7dda-447a-ac7b-c126c633d97b",
   "metadata": {},
   "outputs": [],
   "source": [
    "# calculating negative log lookelihood and the gradient of the negative log likelihood\n",
    "neg_log_lik = np.dot(np.log(hx).T, Y_data) + np.dot(np.log(1-hx).T, 1-Y_data)\n",
    "grad_log_lik = np.dot(X_data.T, hx-Y_data)"
   ]
  },
  {
   "cell_type": "code",
   "execution_count": 8,
   "id": "7d45fa65-0f1a-4b60-ac90-4258ee2cd7e9",
   "metadata": {},
   "outputs": [],
   "source": [
    "# calculating the hessian of the negative log likelihood\n",
    "diag_hx = np.identity(X_data.shape[0]) * np.dot(hx.T, 1-hx)\n",
    "hessian = np.dot(X_data.T, np.dot(diag_hx, X_data))"
   ]
  },
  {
   "cell_type": "code",
   "execution_count": 9,
   "id": "672b7818-8109-4b09-b62d-e4cffb8baafd",
   "metadata": {},
   "outputs": [],
   "source": [
    "# appying newton's method to update theta \n",
    "theta = theta - np.dot(np.linalg.inv(hessian), grad_log_lik)"
   ]
  },
  {
   "cell_type": "code",
   "execution_count": 10,
   "id": "955de89e-aa8a-41f4-ac5c-174d50d12375",
   "metadata": {},
   "outputs": [],
   "source": [
    "# finding lists of indexes for each class of y = {0, 1}\n",
    "y0_list = [i for i in range(0, len(Y_data)) if Y_data[i] == 0]\n",
    "y1_list = [i for i in range(0, len(Y_data)) if Y_data[i] == 1]"
   ]
  },
  {
   "cell_type": "code",
   "execution_count": 11,
   "id": "876de5a9-aeda-4668-8448-acfe9da9b0f6",
   "metadata": {},
   "outputs": [],
   "source": [
    "# generating the decision boundary\n",
    "intercept = -theta[0]/theta[2]                                   # intercept of the decision boundary\n",
    "slope = -theta[1]/theta[2]                                       # slope of the decision boundary\n",
    "x_decision = np.linspace(-3, 3, 30)\n",
    "y_decision = slope*x_decision + intercept                        # decision boundary"
   ]
  },
  {
   "cell_type": "code",
   "execution_count": 12,
   "id": "c5018e48-1731-499b-9223-1c76cd6fd242",
   "metadata": {},
   "outputs": [
    {
     "data": {
      "image/png": "[encoded data removed]",
      "text/plain": [
       "<Figure size 432x288 with 1 Axes>"
      ]
     },
     "metadata": {
      "needs_background": "light"
     },
     "output_type": "display_data"
    }
   ],
   "source": [
    "# plotting the data points (each class is in a different color) and the decision boundary\n",
    "fig = plt.figure()\n",
    "plt.scatter(X[\"x1\"][y0_list], X[\"x2\"][y0_list], color = \"red\", marker = \"o\", label = \"y = 0\")\n",
    "plt.scatter(X[\"x1\"][y1_list], X[\"x2\"][y1_list], color = \"green\", marker = \"*\", label = \"y = 1\")\n",
    "plt.plot(x_decision, y_decision, label = \"decision boundary\")\n",
    "plt.legend()\n",
    "plt.xlabel(\"x1\")\n",
    "plt.ylabel(\"x2\")\n",
    "plt.show()"
   ]
  },
  {
   "cell_type": "code",
   "execution_count": null,
   "id": "b9ce24a5-4936-4d0f-923d-e7627fc0295d",
   "metadata": {},
   "outputs": [],
   "source": []
  }
 ],
 "metadata": {
  "kernelspec": {
   "display_name": "Python 3",
   "language": "python",
   "name": "python3"
  },
  "language_info": {
   "codemirror_mode": {
    "name": "ipython",
    "version": 3
   },
   "file_extension": ".py",
   "mimetype": "text/x-python",
   "name": "python",
   "nbconvert_exporter": "python",
   "pygments_lexer": "ipython3",
   "version": "3.8.8"
  }
 },
 "nbformat": 4,
 "nbformat_minor": 5
}
